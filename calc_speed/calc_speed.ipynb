{
 "cells": [
  {
   "cell_type": "code",
   "execution_count": 17,
   "metadata": {
    "collapsed": false
   },
   "outputs": [
    {
     "name": "stdout",
     "output_type": "stream",
     "text": [
      "The autoreload extension is already loaded. To reload it, use:\n",
      "  %reload_ext autoreload\n"
     ]
    }
   ],
   "source": [
    "%reset-f\n",
    "%load_ext autoreload\n",
    "%autoreload\n",
    "%matplotlib inline"
   ]
  },
  {
   "cell_type": "code",
   "execution_count": 18,
   "metadata": {
    "collapsed": false
   },
   "outputs": [],
   "source": [
    "import os\n",
    "import pandas as pd\n",
    "import numpy as np\n",
    "import scipy as sp\n",
    "import matplotlib.pyplot as plt\n",
    "import scipy as sp\n",
    "from scipy.optimize import curve_fit\n",
    "from tools import *\n",
    "\n",
    "os.makedirs(\"fig\",exist_ok=True)"
   ]
  },
  {
   "cell_type": "markdown",
   "metadata": {},
   "source": [
    "### Piecewise linear trajectory"
   ]
  },
  {
   "cell_type": "code",
   "execution_count": 19,
   "metadata": {
    "collapsed": true
   },
   "outputs": [],
   "source": [
    "def traj(x,s,t,u,a,m):\n",
    "    #print(\"in\",(x,s,t,u,a,m))\n",
    "    u=2030 #forces u to be last value, this is equivalent siince we still chose a\n",
    "    return extrap(x,[0,s,t,u],[0,0,a,max(m,a)]) #forces positive slope"
   ]
  },
  {
   "cell_type": "markdown",
   "metadata": {},
   "source": [
    "### Data"
   ]
  },
  {
   "cell_type": "code",
   "execution_count": 24,
   "metadata": {
    "collapsed": false
   },
   "outputs": [
    {
     "name": "stdout",
     "output_type": "stream",
     "text": [
      "scaling at x10^-6.0\n",
      "[2005 2006 2007 2008 2009 2010 2011 2012 2013 2014 2015 2016 2017 2018 2019\n",
      " 2020 2021 2022 2023 2024 2025 2026 2027 2028 2029 2030]\n"
     ]
    }
   ],
   "source": [
    "#Reads abatement the data\n",
    "df_in=pd.read_csv(\"input/abat.csv\").set_index(\"year\")\n",
    "\n",
    "#Rescales the data\n",
    "power = (np.floor(np.log10(df_in.max().max())/3))*3\n",
    "print(\"scaling at x10^-\"+str(power))\n",
    "abat_xl=df_in * 10**(-power);\n",
    "\n",
    "year=df_in.index.values\n",
    "print(year)\n",
    "\n",
    "#Cost data\n",
    "macs = macs = pd.read_csv(\"input/mac_names.csv\").set_index(\"measure\")\n",
    "    "
   ]
  },
  {
   "cell_type": "code",
   "execution_count": 30,
   "metadata": {
    "collapsed": true
   },
   "outputs": [],
   "source": [
    "#Output dataframe\n",
    "df = pd.DataFrame(index=df_in.columns,columns=[\"speed\",\"MAC\",\"potential\",\"t\",\"growth\"])\n",
    "df[\"MAC\"]=macs"
   ]
  },
  {
   "cell_type": "markdown",
   "metadata": {},
   "source": [
    "### Loop on measures"
   ]
  },
  {
   "cell_type": "code",
   "execution_count": 54,
   "metadata": {
    "collapsed": false
   },
   "outputs": [],
   "source": [
    "for j in df.index:\n",
    "#for j in [\"Industrial wastewater\"]:\n",
    "    y=abat_xl.ix[:,j].interpolate() #fills missing values by interpolating\n",
    "\n",
    "    #guess\n",
    "    s_ = year[3];\n",
    "    t_ = year[15];\n",
    "    u_=year[-1];\n",
    "    a_ = y[t_];\n",
    "    m_ = y[year[-1]]\n",
    "    \n",
    "    #fit\n",
    "    (s,t,u,a,m),foo =curve_fit(traj, year, y, maxfev=int(1e4), p0 = [s_, t_,u_,a_,m_])\n",
    "   \n",
    "    #makes sure start is before t\n",
    "    s,t = min(s,t),max(s,t)\n",
    "    \n",
    "    #plot\n",
    "    plt.scatter(year,y,c=\"red\")\n",
    "    plt.plot(year,traj(year,s,t,u,a,m))\n",
    "    \n",
    "    #speeds\n",
    "    if abs(s-t)<2: #case with a jump\n",
    "        va= a\n",
    "    else:\n",
    "        va = a/(t-s)\n",
    "        \n",
    "    vb = (m-a)/(u-t)\n",
    "    \n",
    "    if va>vb: #classic case\n",
    "        df[\"t\"]=t\n",
    "        df[\"speed\"]=va\n",
    "        df[\"growth\"]=vb\n",
    "        df[\"potential\"]=a\n",
    "    else:\n",
    "        v=m/(u-s)\n",
    "        df[\"t\"]=s\n",
    "        df[\"speed\"]=v\n",
    "        df[\"growth\"]=v\n",
    "        df[\"potential\"]=0\n",
    "        \n",
    "        plt.plot(year,traj(year,s,s,u,0,v*(u_-s)),color=\"green\")\n",
    "\n",
    "    #saves figures and clears\n",
    "    plt.savefig(\"fig/\"+j+\".png\")\n",
    "    plt.close()\n",
    "    \n",
    "        \n",
    "        \n",
    "    \n",
    "   \n",
    "    \n",
    "    "
   ]
  },
  {
   "cell_type": "code",
   "execution_count": 51,
   "metadata": {
    "collapsed": false
   },
   "outputs": [
    {
     "data": {
      "text/plain": [
       "(2009.0126185362617,\n",
       " 2009.5895793414882,\n",
       " 2030.0,\n",
       " 7.6873996154793067,\n",
       " 14.683664853889249,\n",
       " 13.323954670477008,\n",
       " 0.3427790811108179)"
      ]
     },
     "execution_count": 51,
     "metadata": {},
     "output_type": "execute_result"
    }
   ],
   "source": [
    "(s,t,u,a,m,va,vb)"
   ]
  },
  {
   "cell_type": "code",
   "execution_count": 48,
   "metadata": {
    "collapsed": false
   },
   "outputs": [
    {
     "data": {
      "text/plain": [
       "2009.0126185362617"
      ]
     },
     "execution_count": 48,
     "metadata": {},
     "output_type": "execute_result"
    }
   ],
   "source": [
    "min(s,t)"
   ]
  },
  {
   "cell_type": "code",
   "execution_count": 50,
   "metadata": {
    "collapsed": false
   },
   "outputs": [
    {
     "data": {
      "text/plain": [
       "2009.0126185362617"
      ]
     },
     "execution_count": 50,
     "metadata": {},
     "output_type": "execute_result"
    }
   ],
   "source": [
    "s"
   ]
  },
  {
   "cell_type": "code",
   "execution_count": null,
   "metadata": {
    "collapsed": true
   },
   "outputs": [],
   "source": []
  }
 ],
 "metadata": {
  "kernelspec": {
   "display_name": "Python 3",
   "language": "python",
   "name": "python3"
  },
  "language_info": {
   "codemirror_mode": {
    "name": "ipython",
    "version": 3
   },
   "file_extension": ".py",
   "mimetype": "text/x-python",
   "name": "python",
   "nbconvert_exporter": "python",
   "pygments_lexer": "ipython3",
   "version": "3.4.1"
  }
 },
 "nbformat": 4,
 "nbformat_minor": 0
}
