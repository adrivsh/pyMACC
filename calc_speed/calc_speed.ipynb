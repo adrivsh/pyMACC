{
 "cells": [
  {
   "cell_type": "code",
   "execution_count": 1,
   "metadata": {
    "collapsed": false
   },
   "outputs": [],
   "source": [
    "%reset-f\n",
    "%load_ext autoreload\n",
    "%autoreload\n",
    "%matplotlib inline"
   ]
  },
  {
   "cell_type": "code",
   "execution_count": 2,
   "metadata": {
    "collapsed": false
   },
   "outputs": [],
   "source": [
    "import pandas as pd\n",
    "import numpy as np\n",
    "import scipy as sp\n",
    "from scipy.interpolate import interp1d\n",
    "from scipy.interpolate import InterpolatedUnivariateSpline, splrep, splev\n",
    "import matplotlib.pyplot as plt\n",
    "import scipy as sp\n",
    "from scipy.optimize import curve_fit\n",
    "from tools import *"
   ]
  },
  {
   "cell_type": "markdown",
   "metadata": {},
   "source": [
    "### Piecewise linear trajectory"
   ]
  },
  {
   "cell_type": "code",
   "execution_count": 3,
   "metadata": {
    "collapsed": true
   },
   "outputs": [],
   "source": [
    "def traj(x,s,t,u,a,m):\n",
    "    #print(\"in\",(x,s,t,u,a,m))\n",
    "    u=2030 #forces u to be last value, this is equivalent siince we still chose a\n",
    "    return extrap(x,[0,s,t,u],[0,0,a,max(m,a)]) #forces positive slope"
   ]
  },
  {
   "cell_type": "markdown",
   "metadata": {},
   "source": [
    "### Data"
   ]
  },
  {
   "cell_type": "code",
   "execution_count": 5,
   "metadata": {
    "collapsed": false
   },
   "outputs": [
    {
     "name": "stdout",
     "output_type": "stream",
     "text": [
      "scaling at x10^-6.0\n"
     ]
    },
    {
     "data": {
      "text/plain": [
       "array([2005, 2006, 2007, 2008, 2009, 2010, 2011, 2012, 2013, 2014, 2015,\n",
       "       2016, 2017, 2018, 2019, 2020, 2021, 2022, 2023, 2024, 2025, 2026,\n",
       "       2027, 2028, 2029, 2030], dtype=int64)"
      ]
     },
     "execution_count": 5,
     "metadata": {},
     "output_type": "execute_result"
    }
   ],
   "source": [
    "#Redas the data\n",
    "df=pd.read_csv(\"input_speed/abat.csv\").set_index(\"year\")\n",
    "\n",
    "#scales the data\n",
    "power = (np.floor(np.log10(df.max().max())/3))*3\n",
    "print(\"scaling at x10^-\"+str(power))\n",
    "abat_xl=df * 10**(-power);\n",
    "\n",
    "year=df.index.values\n",
    "year"
   ]
  },
  {
   "cell_type": "markdown",
   "metadata": {},
   "source": [
    "### Loop on measures"
   ]
  },
  {
   "cell_type": "code",
   "execution_count": 6,
   "metadata": {
    "collapsed": false
   },
   "outputs": [
    {
     "name": "stderr",
     "output_type": "stream",
     "text": [
      "C:\\Users\\Admin\\Anaconda3\\lib\\site-packages\\scipy\\optimize\\minpack.py:604: OptimizeWarning: Covariance of the parameters could not be estimated\n",
      "  category=OptimizeWarning)\n"
     ]
    }
   ],
   "source": [
    "for j in df.columns:\n",
    "    y=abat_xl.ix[:,j].interpolate() #fills missing values by interpolating\n",
    "\n",
    "    #guess\n",
    "    s_ = year[3];\n",
    "    t_ = year[15];\n",
    "    u_=year[-1];\n",
    "    a_ = y[t_];\n",
    "    m_ = y[year[-1]]\n",
    "    \n",
    "    #fit\n",
    "    #try:\n",
    "    (s,t,u,a,m),foo =curve_fit(traj, year, y, maxfev=int(1e4), p0 = [s_, t_,u_,a_,m_])\n",
    "    #except \n",
    "    \n",
    "    #plot\n",
    "    plt.scatter(year,y,c=\"red\")\n",
    "    plt.plot(year,traj(year,s,t,u,a,m))\n",
    "    plt.savefig(\"fig/\"+j+\".png\")\n",
    "    plt.close()\n",
    "    "
   ]
  },
  {
   "cell_type": "code",
   "execution_count": null,
   "metadata": {
    "collapsed": false
   },
   "outputs": [],
   "source": []
  },
  {
   "cell_type": "code",
   "execution_count": null,
   "metadata": {
    "collapsed": true
   },
   "outputs": [],
   "source": []
  },
  {
   "cell_type": "code",
   "execution_count": null,
   "metadata": {
    "collapsed": true
   },
   "outputs": [],
   "source": []
  }
 ],
 "metadata": {
  "kernelspec": {
   "display_name": "Python 3",
   "language": "python",
   "name": "python3"
  },
  "language_info": {
   "codemirror_mode": {
    "name": "ipython",
    "version": 3
   },
   "file_extension": ".py",
   "mimetype": "text/x-python",
   "name": "python",
   "nbconvert_exporter": "python",
   "pygments_lexer": "ipython3",
   "version": "3.4.1"
  }
 },
 "nbformat": 4,
 "nbformat_minor": 0
}
