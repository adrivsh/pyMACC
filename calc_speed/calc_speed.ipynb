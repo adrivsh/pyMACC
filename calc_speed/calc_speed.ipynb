{
 "cells": [
  {
   "cell_type": "code",
   "execution_count": 29,
   "metadata": {
    "collapsed": false
   },
   "outputs": [
    {
     "name": "stdout",
     "output_type": "stream",
     "text": [
      "The autoreload extension is already loaded. To reload it, use:\n",
      "  %reload_ext autoreload\n"
     ]
    }
   ],
   "source": [
    "%reset-f\n",
    "%load_ext autoreload\n",
    "%autoreload\n",
    "%matplotlib inline"
   ]
  },
  {
   "cell_type": "code",
   "execution_count": 30,
   "metadata": {
    "collapsed": false
   },
   "outputs": [],
   "source": [
    "import os\n",
    "import pandas as pd\n",
    "import numpy as np\n",
    "import scipy as sp\n",
    "import matplotlib.pyplot as plt\n",
    "import scipy as sp\n",
    "from scipy.optimize import curve_fit\n",
    "from tools import *\n",
    "\n"
   ]
  },
  {
   "cell_type": "code",
   "execution_count": 37,
   "metadata": {
    "collapsed": false
   },
   "outputs": [],
   "source": [
    "country_name = \"peru\"\n",
    "outdir = \"out_\"+country_name+\"/\"\n",
    "os.makedirs(outdir,exist_ok=True)\n",
    "input_dir = \"input/\"+country_name+\"/\""
   ]
  },
  {
   "cell_type": "markdown",
   "metadata": {},
   "source": [
    "### Piecewise linear trajectory"
   ]
  },
  {
   "cell_type": "code",
   "execution_count": 38,
   "metadata": {
    "collapsed": true
   },
   "outputs": [],
   "source": [
    "def traj(x,s,t,a,m):\n",
    "    #print(\"in\",(x,s,t,u,a,m))\n",
    "    u=x[-1]#forces u to be last value, this is equivalent siince we still chose a\n",
    "    return extrap(x,[0,s,t,u],[0,0,a,max(m,a)]) #forces positive slope"
   ]
  },
  {
   "cell_type": "markdown",
   "metadata": {},
   "source": [
    "### Data"
   ]
  },
  {
   "cell_type": "code",
   "execution_count": 39,
   "metadata": {
    "collapsed": false
   },
   "outputs": [
    {
     "name": "stdout",
     "output_type": "stream",
     "text": [
      "scaling at x10^-0.0\n",
      "[2010 2011 2012 2013 2014 2015 2016 2017 2018 2019 2020 2021 2022 2023 2024\n",
      " 2025 2026 2027 2028 2029 2030 2031 2032 2033 2034 2035 2036 2037 2038 2039\n",
      " 2040 2041 2042 2043 2044 2045 2046 2047 2048 2049 2050]\n"
     ]
    }
   ],
   "source": [
    "#Reads abatement the data\n",
    "df_in=pd.read_csv(input_dir+\"abat.csv\").set_index(\"year\")\n",
    "\n",
    "#Rescales the data\n",
    "power = (np.floor(np.log10(df_in.max().max())/3))*3\n",
    "print(\"scaling at x10^-\"+str(power))\n",
    "abat_xl=df_in * 10**(-power);\n",
    "\n",
    "year=df_in.index.values\n",
    "print(year)\n",
    "\n",
    "#Cost data\n",
    "macs = macs = pd.read_csv(input_dir+\"mac_names.csv\").set_index(\"measure\")\n",
    "    "
   ]
  },
  {
   "cell_type": "code",
   "execution_count": 40,
   "metadata": {
    "collapsed": true
   },
   "outputs": [],
   "source": [
    "#Output dataframe\n",
    "df = pd.DataFrame(index=df_in.columns,columns=[\"speed\",\"MAC\",\"potential\",\"t\",\"growth\"])\n",
    "df[\"MAC\"]=macs"
   ]
  },
  {
   "cell_type": "markdown",
   "metadata": {},
   "source": [
    "### Loop on measures"
   ]
  },
  {
   "cell_type": "code",
   "execution_count": 41,
   "metadata": {
    "collapsed": false
   },
   "outputs": [],
   "source": [
    "for j in df.index:\n",
    "#for j in [\"Industrial wastewater\"]:\n",
    "    y=abat_xl.ix[:,j].interpolate() #fills missing values by interpolating\n",
    "\n",
    "    #guess\n",
    "    s_ = year[3];\n",
    "    t_ = year[15];\n",
    "    a_ = y[t_];\n",
    "    m_ = y[year[-1]]\n",
    "    \n",
    "    #fit\n",
    "    (s,t,a,m),foo =curve_fit(traj, year, y, maxfev=int(1e4), p0 = [s_, t_,a_,m_])\n",
    "   \n",
    "    #makes sure start is before t\n",
    "    s,t = min(s,t),max(s,t)\n",
    "    \n",
    "    #plot\n",
    "    plt.scatter(year,y,c=\"red\")\n",
    "    plt.plot(year,traj(year,s,t,a,m))\n",
    "    \n",
    "    u=year[-1]\n",
    "    \n",
    "    #speeds\n",
    "    if abs(s-t)<2: #case with a jump\n",
    "        va= a\n",
    "    else:\n",
    "        va = a/(t-s)\n",
    "        \n",
    "    vb = (m-a)/(u-t)\n",
    "    \n",
    "    if va>vb: #classic case\n",
    "        df[\"t\"]=t\n",
    "        df[\"speed\"]=va\n",
    "        df[\"growth\"]=vb\n",
    "        df[\"potential\"]=a\n",
    "    else:\n",
    "        v=m/(u-s)\n",
    "        df[\"t\"]=s\n",
    "        df[\"speed\"]=v\n",
    "        df[\"growth\"]=v\n",
    "        df[\"potential\"]=0\n",
    "        \n",
    "        plt.plot(year,traj(year,s,s,0,v*(u-s)),color=\"green\")\n",
    "\n",
    "    #saves figures and clears\n",
    "    plt.savefig(outdir+j+\".png\")\n",
    "    plt.close()\n",
    "    "
   ]
  },
  {
   "cell_type": "code",
   "execution_count": null,
   "metadata": {
    "collapsed": true
   },
   "outputs": [],
   "source": []
  }
 ],
 "metadata": {
  "kernelspec": {
   "display_name": "Python 3",
   "language": "python",
   "name": "python3"
  },
  "language_info": {
   "codemirror_mode": {
    "name": "ipython",
    "version": 3
   },
   "file_extension": ".py",
   "mimetype": "text/x-python",
   "name": "python",
   "nbconvert_exporter": "python",
   "pygments_lexer": "ipython3",
   "version": "3.4.1"
  }
 },
 "nbformat": 4,
 "nbformat_minor": 0
}
